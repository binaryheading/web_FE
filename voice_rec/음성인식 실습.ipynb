{
 "cells": [
  {
   "cell_type": "code",
   "execution_count": 1,
   "id": "a27dd628",
   "metadata": {},
   "outputs": [
    {
     "name": "stdout",
     "output_type": "stream",
     "text": [
      "Requirement already satisfied: SpeechRecognition in c:\\users\\lg-pc\\appdata\\local\\programs\\python\\python311\\lib\\site-packages (3.10.1)\n",
      "Requirement already satisfied: requests>=2.26.0 in c:\\users\\lg-pc\\appdata\\local\\programs\\python\\python311\\lib\\site-packages (from SpeechRecognition) (2.31.0)\n",
      "Requirement already satisfied: typing-extensions in c:\\users\\lg-pc\\appdata\\local\\programs\\python\\python311\\lib\\site-packages (from SpeechRecognition) (4.9.0)\n",
      "Requirement already satisfied: charset-normalizer<4,>=2 in c:\\users\\lg-pc\\appdata\\local\\programs\\python\\python311\\lib\\site-packages (from requests>=2.26.0->SpeechRecognition) (3.3.2)\n",
      "Requirement already satisfied: idna<4,>=2.5 in c:\\users\\lg-pc\\appdata\\local\\programs\\python\\python311\\lib\\site-packages (from requests>=2.26.0->SpeechRecognition) (3.6)\n",
      "Requirement already satisfied: urllib3<3,>=1.21.1 in c:\\users\\lg-pc\\appdata\\local\\programs\\python\\python311\\lib\\site-packages (from requests>=2.26.0->SpeechRecognition) (2.1.0)\n",
      "Requirement already satisfied: certifi>=2017.4.17 in c:\\users\\lg-pc\\appdata\\local\\programs\\python\\python311\\lib\\site-packages (from requests>=2.26.0->SpeechRecognition) (2023.11.17)\n",
      "Note: you may need to restart the kernel to use updated packages.\n"
     ]
    },
    {
     "name": "stderr",
     "output_type": "stream",
     "text": [
      "\n",
      "[notice] A new release of pip available: 22.3.1 -> 24.0\n",
      "[notice] To update, run: python.exe -m pip install --upgrade pip\n"
     ]
    }
   ],
   "source": [
    "pip install SpeechRecognition"
   ]
  },
  {
   "cell_type": "code",
   "execution_count": 2,
   "id": "f2c605de",
   "metadata": {},
   "outputs": [],
   "source": [
    "# pip show speech_recognition"
   ]
  },
  {
   "cell_type": "code",
   "execution_count": 3,
   "id": "81f1e8fa",
   "metadata": {},
   "outputs": [
    {
     "name": "stdout",
     "output_type": "stream",
     "text": [
      "Requirement already satisfied: pyaudio in c:\\users\\lg-pc\\appdata\\local\\programs\\python\\python311\\lib\\site-packages (0.2.14)\n",
      "Note: you may need to restart the kernel to use updated packages.\n"
     ]
    },
    {
     "name": "stderr",
     "output_type": "stream",
     "text": [
      "\n",
      "[notice] A new release of pip available: 22.3.1 -> 24.0\n",
      "[notice] To update, run: python.exe -m pip install --upgrade pip\n"
     ]
    }
   ],
   "source": [
    "pip install pyaudio"
   ]
  },
  {
   "cell_type": "code",
   "execution_count": 4,
   "id": "1745a063",
   "metadata": {},
   "outputs": [
    {
     "name": "stdout",
     "output_type": "stream",
     "text": [
      "Say something:\n",
      "Sorry, I could not understand what you said.\n"
     ]
    }
   ],
   "source": [
    "#마이크 사용하는 간단한 코드\n",
    "import speech_recognition as sr\n",
    "import pyaudio\n",
    "# 마이크로부터 음성 입력 받기\n",
    "recognizer = sr.Recognizer()\n",
    "microphone = sr.Microphone()\n",
    "\n",
    "with microphone as source:\n",
    "    print(\"Say something:\")\n",
    "    audio = recognizer.listen(source)\n",
    "\n",
    "# 음성을 텍스트로 변환하기\n",
    "try:\n",
    "    text = recognizer.recognize_google(audio, language=\"ko-KR\") #한국어 옵션\n",
    "    print(\"You said:\", text)\n",
    "except sr.UnknownValueError:\n",
    "    print(\"Sorry, I could not understand what you said.\")\n",
    "except sr.RequestError as e:\n",
    "    print(f\"Could not request results from Google Speech Recognition service; {e}\")"
   ]
  },
  {
   "cell_type": "code",
   "execution_count": 5,
   "id": "40efe443",
   "metadata": {},
   "outputs": [
    {
     "name": "stdout",
     "output_type": "stream",
     "text": [
      "Requirement already satisfied: gtts in c:\\users\\lg-pc\\appdata\\local\\programs\\python\\python311\\lib\\site-packages (2.5.0)\n",
      "Requirement already satisfied: requests<3,>=2.27 in c:\\users\\lg-pc\\appdata\\local\\programs\\python\\python311\\lib\\site-packages (from gtts) (2.31.0)\n",
      "Requirement already satisfied: click<8.2,>=7.1 in c:\\users\\lg-pc\\appdata\\local\\programs\\python\\python311\\lib\\site-packages (from gtts) (8.1.7)\n",
      "Requirement already satisfied: colorama in c:\\users\\lg-pc\\appdata\\roaming\\python\\python311\\site-packages (from click<8.2,>=7.1->gtts) (0.4.6)\n",
      "Requirement already satisfied: charset-normalizer<4,>=2 in c:\\users\\lg-pc\\appdata\\local\\programs\\python\\python311\\lib\\site-packages (from requests<3,>=2.27->gtts) (3.3.2)\n",
      "Requirement already satisfied: idna<4,>=2.5 in c:\\users\\lg-pc\\appdata\\local\\programs\\python\\python311\\lib\\site-packages (from requests<3,>=2.27->gtts) (3.6)\n",
      "Requirement already satisfied: urllib3<3,>=1.21.1 in c:\\users\\lg-pc\\appdata\\local\\programs\\python\\python311\\lib\\site-packages (from requests<3,>=2.27->gtts) (2.1.0)\n",
      "Requirement already satisfied: certifi>=2017.4.17 in c:\\users\\lg-pc\\appdata\\local\\programs\\python\\python311\\lib\\site-packages (from requests<3,>=2.27->gtts) (2023.11.17)\n",
      "Note: you may need to restart the kernel to use updated packages.\n"
     ]
    },
    {
     "name": "stderr",
     "output_type": "stream",
     "text": [
      "\n",
      "[notice] A new release of pip available: 22.3.1 -> 24.0\n",
      "[notice] To update, run: python.exe -m pip install --upgrade pip\n"
     ]
    }
   ],
   "source": [
    "pip install gtts"
   ]
  },
  {
   "cell_type": "code",
   "execution_count": 6,
   "id": "6fc6a25e",
   "metadata": {},
   "outputs": [
    {
     "name": "stdout",
     "output_type": "stream",
     "text": [
      "Requirement already satisfied: playsound==1.2.2 in c:\\users\\lg-pc\\appdata\\local\\programs\\python\\python311\\lib\\site-packages (1.2.2)\n",
      "Note: you may need to restart the kernel to use updated packages.\n"
     ]
    },
    {
     "name": "stderr",
     "output_type": "stream",
     "text": [
      "\n",
      "[notice] A new release of pip available: 22.3.1 -> 24.0\n",
      "[notice] To update, run: python.exe -m pip install --upgrade pip\n"
     ]
    }
   ],
   "source": [
    "pip install playsound==1.2.2"
   ]
  },
  {
   "cell_type": "code",
   "execution_count": 7,
   "id": "e680bd51",
   "metadata": {},
   "outputs": [],
   "source": [
    "#참고 :https://velog.io/@rina288/PROJECT-03%ED%85%8D%EC%8A%A4%ED%8A%B8%EB%A5%BC-%EC%9D%8C%EC%84%B1%EC%9C%BC%EB%A1%9C-%EB%B3%80%ED%99%98%ED%95%98%EA%B8%B0\n",
    "#위와 같이 playsound를 다운그레이드하면 여러번 코드를 작동해도 잘 실행이 되는 것을 확인할 수 있다.\n",
    "#아마 아래의 코드에서 remove로 계속 반복되는 실행에 있어서 중복되는 파일에 겹치는 문제를 해결하려고 하였으나 \n",
    "#컴퓨터에서 잘 인식되지 않았을 것으로 추측"
   ]
  },
  {
   "cell_type": "code",
   "execution_count": 8,
   "id": "e9745268",
   "metadata": {},
   "outputs": [
    {
     "name": "stdout",
     "output_type": "stream",
     "text": [
      "원하시는 메뉴는: \n",
      "말씀하신 내용입니다 :  치 볶음밥\n"
     ]
    }
   ],
   "source": [
    "# 음성인식 뿐만 아니라 사용자의 음성에 대한 답변을 안내 방송으로 만드는 프로그램 참고: https://pagichacha.tistory.com/104\n",
    "\n",
    "import speech_recognition as sr\n",
    "from gtts import gTTS\n",
    "import os\n",
    "import playsound\n",
    "\n",
    "def speak(text):\n",
    "    tts = gTTS(text=text, lang='ko')\n",
    "    filename = 'voice1.mp3'\n",
    "    tts.save(filename) # 파일을 만들고,\n",
    "    playsound.playsound(filename) # 해당 음성파일을 실행(즉, 음성을 말함)\n",
    "    os.remove(filename) # <---- 이부분이 없으면 퍼미션 에러 발생(아마도 파일을 연 상태에서 추가적인 파일생성 부분에서 에러가 발생하는 것으로 보임)\n",
    "\n",
    "def get_audio():\n",
    "    r = sr.Recognizer()\n",
    "    with sr.Microphone() as source:\n",
    "        #print(\"지금 말씀하세요: \")\n",
    "        print(\"원하시는 메뉴는: \")\n",
    "        audio = r.listen(source)\n",
    "        said = \" \"\n",
    "\n",
    "        try:\n",
    "            said = r.recognize_google(audio, language=\"ko-KR\")\n",
    "            print(\"말씀하신 내용입니다 : \", said)\n",
    "        except Exception as e:\n",
    "            print(\"Exception: \" + str(e))\n",
    "\n",
    "    return said\n",
    "\n",
    "#############################\n",
    "# 0.안내 방송(음성)\n",
    "#############################\n",
    "#speak(\"안녕하세요. 2초 후에 '지금 말씀하세요: ' 라는 문장이 나온 후 말 하시면 텍스트로 저장됩니다.\")\n",
    "speak(\"안녕하세요. 원하시는 메뉴를 말씀해주세요.\")\n",
    "#############################\n",
    "# 1.음성입력\n",
    "#############################\n",
    "text=get_audio()\n",
    "\n",
    "\n",
    "#############################\n",
    "# 5.파일저장\n",
    "#############################\n",
    "#with open('memo.txt', 'w') as f:\n",
    "#    f.write(str(text)+\"\\n\")\n"
   ]
  },
  {
   "cell_type": "code",
   "execution_count": 9,
   "id": "a358501c",
   "metadata": {},
   "outputs": [],
   "source": [
    "#text=\"김치볶음밥\""
   ]
  },
  {
   "cell_type": "code",
   "execution_count": 10,
   "id": "03bd5350",
   "metadata": {},
   "outputs": [],
   "source": [
    "speak(text+\" 메뉴를 주문하셨습니다.\")"
   ]
  },
  {
   "cell_type": "code",
   "execution_count": 11,
   "id": "a60d051a",
   "metadata": {},
   "outputs": [],
   "source": [
    "# database=[]\n",
    "# if text not in database:\n",
    "#     speak(\"해당 메뉴가 존재하지 않아 추천 메뉴 세가지를 말씀해드리겠습니다. 잠시만 기다려 주세요.\")\n",
    "# else:\n",
    "#     speak(\"해당 메뉴가 존재합니다. 몇 개 주문시겠습니까?\")"
   ]
  },
  {
   "cell_type": "code",
   "execution_count": 12,
   "id": "fe1cb987",
   "metadata": {},
   "outputs": [],
   "source": [
    "# 메뉴 데이터 기반 예린이의 추천 시스템 코드 추가"
   ]
  },
  {
   "cell_type": "code",
   "execution_count": 13,
   "id": "925b728b",
   "metadata": {},
   "outputs": [
    {
     "name": "stdout",
     "output_type": "stream",
     "text": [
      "Requirement already satisfied: konlpy in c:\\users\\lg-pc\\appdata\\local\\programs\\python\\python311\\lib\\site-packages (0.6.0)\n",
      "Requirement already satisfied: JPype1>=0.7.0 in c:\\users\\lg-pc\\appdata\\local\\programs\\python\\python311\\lib\\site-packages (from konlpy) (1.5.0)\n",
      "Requirement already satisfied: lxml>=4.1.0 in c:\\users\\lg-pc\\appdata\\local\\programs\\python\\python311\\lib\\site-packages (from konlpy) (5.1.0)\n",
      "Requirement already satisfied: numpy>=1.6 in c:\\users\\lg-pc\\appdata\\local\\programs\\python\\python311\\lib\\site-packages (from konlpy) (1.26.4)\n",
      "Requirement already satisfied: packaging in c:\\users\\lg-pc\\appdata\\roaming\\python\\python311\\site-packages (from JPype1>=0.7.0->konlpy) (23.1)\n",
      "Note: you may need to restart the kernel to use updated packages.\n"
     ]
    },
    {
     "name": "stderr",
     "output_type": "stream",
     "text": [
      "\n",
      "[notice] A new release of pip available: 22.3.1 -> 24.0\n",
      "[notice] To update, run: python.exe -m pip install --upgrade pip\n"
     ]
    }
   ],
   "source": [
    "# pip install konlpy"
   ]
  },
  {
   "cell_type": "code",
   "execution_count": 14,
   "id": "5eb2a5d1",
   "metadata": {},
   "outputs": [
    {
     "name": "stdout",
     "output_type": "stream",
     "text": [
      "['치', '볶음밥']\n"
     ]
    }
   ],
   "source": [
    "# from konlpy.tag import Okt \n",
    "# okt=Okt()\n",
    "\n",
    "# print(okt.nouns(text)) #일단 여기서 형태소 분석하면 안되기는 하지만 확인차원에서 코드를 실행해봄 (혹시 김치와 볶음밥을 나눠서... 아니다...-> 메뉴 추천에 도움이 될 지도)"
   ]
  },
  {
   "cell_type": "code",
   "execution_count": 15,
   "id": "25c42d34",
   "metadata": {},
   "outputs": [
    {
     "name": "stdout",
     "output_type": "stream",
     "text": [
      "Requirement already satisfied: kiwipiepy in c:\\users\\lg-pc\\appdata\\local\\programs\\python\\python311\\lib\\site-packages (0.16.2)\n",
      "Requirement already satisfied: kiwipiepy-model~=0.16 in c:\\users\\lg-pc\\appdata\\local\\programs\\python\\python311\\lib\\site-packages (from kiwipiepy) (0.16.0)\n",
      "Requirement already satisfied: numpy in c:\\users\\lg-pc\\appdata\\local\\programs\\python\\python311\\lib\\site-packages (from kiwipiepy) (1.26.4)\n",
      "Requirement already satisfied: tqdm in c:\\users\\lg-pc\\appdata\\local\\programs\\python\\python311\\lib\\site-packages (from kiwipiepy) (4.66.2)\n",
      "Requirement already satisfied: colorama in c:\\users\\lg-pc\\appdata\\roaming\\python\\python311\\site-packages (from tqdm->kiwipiepy) (0.4.6)\n",
      "Note: you may need to restart the kernel to use updated packages.\n"
     ]
    },
    {
     "name": "stderr",
     "output_type": "stream",
     "text": [
      "\n",
      "[notice] A new release of pip available: 22.3.1 -> 24.0\n",
      "[notice] To update, run: python.exe -m pip install --upgrade pip\n"
     ]
    }
   ],
   "source": [
    "pip install kiwipiepy"
   ]
  },
  {
   "cell_type": "code",
   "execution_count": 16,
   "id": "d57139d9",
   "metadata": {},
   "outputs": [
    {
     "name": "stdout",
     "output_type": "stream",
     "text": [
      "Requirement already satisfied: transformers in c:\\users\\lg-pc\\appdata\\local\\programs\\python\\python311\\lib\\site-packages (4.38.1)\n",
      "Requirement already satisfied: filelock in c:\\users\\lg-pc\\appdata\\local\\programs\\python\\python311\\lib\\site-packages (from transformers) (3.13.1)\n",
      "Requirement already satisfied: huggingface-hub<1.0,>=0.19.3 in c:\\users\\lg-pc\\appdata\\local\\programs\\python\\python311\\lib\\site-packages (from transformers) (0.20.3)\n",
      "Requirement already satisfied: numpy>=1.17 in c:\\users\\lg-pc\\appdata\\local\\programs\\python\\python311\\lib\\site-packages (from transformers) (1.26.4)\n",
      "Requirement already satisfied: packaging>=20.0 in c:\\users\\lg-pc\\appdata\\roaming\\python\\python311\\site-packages (from transformers) (23.1)\n",
      "Requirement already satisfied: pyyaml>=5.1 in c:\\users\\lg-pc\\appdata\\local\\programs\\python\\python311\\lib\\site-packages (from transformers) (6.0.1)\n",
      "Requirement already satisfied: regex!=2019.12.17 in c:\\users\\lg-pc\\appdata\\local\\programs\\python\\python311\\lib\\site-packages (from transformers) (2023.12.25)\n",
      "Requirement already satisfied: requests in c:\\users\\lg-pc\\appdata\\local\\programs\\python\\python311\\lib\\site-packages (from transformers) (2.31.0)\n",
      "Requirement already satisfied: tokenizers<0.19,>=0.14 in c:\\users\\lg-pc\\appdata\\local\\programs\\python\\python311\\lib\\site-packages (from transformers) (0.15.2)\n",
      "Requirement already satisfied: safetensors>=0.4.1 in c:\\users\\lg-pc\\appdata\\local\\programs\\python\\python311\\lib\\site-packages (from transformers) (0.4.2)\n",
      "Requirement already satisfied: tqdm>=4.27 in c:\\users\\lg-pc\\appdata\\local\\programs\\python\\python311\\lib\\site-packages (from transformers) (4.66.2)\n",
      "Requirement already satisfied: fsspec>=2023.5.0 in c:\\users\\lg-pc\\appdata\\local\\programs\\python\\python311\\lib\\site-packages (from huggingface-hub<1.0,>=0.19.3->transformers) (2024.2.0)\n",
      "Requirement already satisfied: typing-extensions>=3.7.4.3 in c:\\users\\lg-pc\\appdata\\local\\programs\\python\\python311\\lib\\site-packages (from huggingface-hub<1.0,>=0.19.3->transformers) (4.9.0)\n",
      "Requirement already satisfied: colorama in c:\\users\\lg-pc\\appdata\\roaming\\python\\python311\\site-packages (from tqdm>=4.27->transformers) (0.4.6)\n",
      "Requirement already satisfied: charset-normalizer<4,>=2 in c:\\users\\lg-pc\\appdata\\local\\programs\\python\\python311\\lib\\site-packages (from requests->transformers) (3.3.2)\n",
      "Requirement already satisfied: idna<4,>=2.5 in c:\\users\\lg-pc\\appdata\\local\\programs\\python\\python311\\lib\\site-packages (from requests->transformers) (3.6)\n",
      "Requirement already satisfied: urllib3<3,>=1.21.1 in c:\\users\\lg-pc\\appdata\\local\\programs\\python\\python311\\lib\\site-packages (from requests->transformers) (2.1.0)\n",
      "Requirement already satisfied: certifi>=2017.4.17 in c:\\users\\lg-pc\\appdata\\local\\programs\\python\\python311\\lib\\site-packages (from requests->transformers) (2023.11.17)\n",
      "Note: you may need to restart the kernel to use updated packages.\n"
     ]
    },
    {
     "name": "stderr",
     "output_type": "stream",
     "text": [
      "\n",
      "[notice] A new release of pip available: 22.3.1 -> 24.0\n",
      "[notice] To update, run: python.exe -m pip install --upgrade pip\n"
     ]
    }
   ],
   "source": [
    "pip install transformers"
   ]
  },
  {
   "cell_type": "code",
   "execution_count": 17,
   "id": "dc982c00",
   "metadata": {},
   "outputs": [
    {
     "name": "stdout",
     "output_type": "stream",
     "text": [
      "Requirement already satisfied: torch in c:\\users\\lg-pc\\appdata\\local\\programs\\python\\python311\\lib\\site-packages (2.2.1)\n",
      "Requirement already satisfied: filelock in c:\\users\\lg-pc\\appdata\\local\\programs\\python\\python311\\lib\\site-packages (from torch) (3.13.1)\n",
      "Requirement already satisfied: typing-extensions>=4.8.0 in c:\\users\\lg-pc\\appdata\\local\\programs\\python\\python311\\lib\\site-packages (from torch) (4.9.0)\n",
      "Requirement already satisfied: sympy in c:\\users\\lg-pc\\appdata\\local\\programs\\python\\python311\\lib\\site-packages (from torch) (1.12)\n",
      "Requirement already satisfied: networkx in c:\\users\\lg-pc\\appdata\\local\\programs\\python\\python311\\lib\\site-packages (from torch) (3.2.1)\n",
      "Requirement already satisfied: jinja2 in c:\\users\\lg-pc\\appdata\\local\\programs\\python\\python311\\lib\\site-packages (from torch) (3.1.3)\n",
      "Requirement already satisfied: fsspec in c:\\users\\lg-pc\\appdata\\local\\programs\\python\\python311\\lib\\site-packages (from torch) (2024.2.0)\n",
      "Requirement already satisfied: MarkupSafe>=2.0 in c:\\users\\lg-pc\\appdata\\local\\programs\\python\\python311\\lib\\site-packages (from jinja2->torch) (2.1.5)\n",
      "Requirement already satisfied: mpmath>=0.19 in c:\\users\\lg-pc\\appdata\\local\\programs\\python\\python311\\lib\\site-packages (from sympy->torch) (1.3.0)\n",
      "Note: you may need to restart the kernel to use updated packages.\n"
     ]
    },
    {
     "name": "stderr",
     "output_type": "stream",
     "text": [
      "\n",
      "[notice] A new release of pip available: 22.3.1 -> 24.0\n",
      "[notice] To update, run: python.exe -m pip install --upgrade pip\n"
     ]
    }
   ],
   "source": [
    "pip install torch"
   ]
  },
  {
   "cell_type": "code",
   "execution_count": 18,
   "id": "7ec3619f",
   "metadata": {},
   "outputs": [
    {
     "name": "stdout",
     "output_type": "stream",
     "text": [
      "Requirement already satisfied: scikit-learn in c:\\users\\lg-pc\\appdata\\local\\programs\\python\\python311\\lib\\site-packages (1.4.1.post1)\n",
      "Requirement already satisfied: numpy<2.0,>=1.19.5 in c:\\users\\lg-pc\\appdata\\local\\programs\\python\\python311\\lib\\site-packages (from scikit-learn) (1.26.4)\n",
      "Requirement already satisfied: scipy>=1.6.0 in c:\\users\\lg-pc\\appdata\\local\\programs\\python\\python311\\lib\\site-packages (from scikit-learn) (1.12.0)\n",
      "Requirement already satisfied: joblib>=1.2.0 in c:\\users\\lg-pc\\appdata\\local\\programs\\python\\python311\\lib\\site-packages (from scikit-learn) (1.3.2)\n",
      "Requirement already satisfied: threadpoolctl>=2.0.0 in c:\\users\\lg-pc\\appdata\\local\\programs\\python\\python311\\lib\\site-packages (from scikit-learn) (3.3.0)\n",
      "Note: you may need to restart the kernel to use updated packages.\n"
     ]
    },
    {
     "name": "stderr",
     "output_type": "stream",
     "text": [
      "\n",
      "[notice] A new release of pip available: 22.3.1 -> 24.0\n",
      "[notice] To update, run: python.exe -m pip install --upgrade pip\n"
     ]
    }
   ],
   "source": [
    "pip install scikit-learn"
   ]
  },
  {
   "cell_type": "code",
   "execution_count": 19,
   "id": "57d1f2d9",
   "metadata": {},
   "outputs": [
    {
     "name": "stdout",
     "output_type": "stream",
     "text": [
      "Requirement already satisfied: pandas in c:\\users\\lg-pc\\appdata\\local\\programs\\python\\python311\\lib\\site-packages (2.2.1)\n",
      "Requirement already satisfied: numpy<2,>=1.23.2 in c:\\users\\lg-pc\\appdata\\local\\programs\\python\\python311\\lib\\site-packages (from pandas) (1.26.4)\n",
      "Requirement already satisfied: python-dateutil>=2.8.2 in c:\\users\\lg-pc\\appdata\\roaming\\python\\python311\\site-packages (from pandas) (2.8.2)\n",
      "Requirement already satisfied: pytz>=2020.1 in c:\\users\\lg-pc\\appdata\\local\\programs\\python\\python311\\lib\\site-packages (from pandas) (2024.1)\n",
      "Requirement already satisfied: tzdata>=2022.7 in c:\\users\\lg-pc\\appdata\\local\\programs\\python\\python311\\lib\\site-packages (from pandas) (2024.1)\n",
      "Requirement already satisfied: six>=1.5 in c:\\users\\lg-pc\\appdata\\roaming\\python\\python311\\site-packages (from python-dateutil>=2.8.2->pandas) (1.16.0)\n",
      "Note: you may need to restart the kernel to use updated packages.\n"
     ]
    },
    {
     "name": "stderr",
     "output_type": "stream",
     "text": [
      "\n",
      "[notice] A new release of pip available: 22.3.1 -> 24.0\n",
      "[notice] To update, run: python.exe -m pip install --upgrade pip\n"
     ]
    }
   ],
   "source": [
    "pip install pandas"
   ]
  },
  {
   "cell_type": "code",
   "execution_count": 20,
   "id": "2a9362a1",
   "metadata": {},
   "outputs": [
    {
     "name": "stderr",
     "output_type": "stream",
     "text": [
      "c:\\Users\\LG-PC\\AppData\\Local\\Programs\\Python\\Python311\\Lib\\site-packages\\tqdm\\auto.py:21: TqdmWarning: IProgress not found. Please update jupyter and ipywidgets. See https://ipywidgets.readthedocs.io/en/stable/user_install.html\n",
      "  from .autonotebook import tqdm as notebook_tqdm\n"
     ]
    }
   ],
   "source": [
    "from key_extraction import keywordExtractor\n",
    "from transformers import ElectraModel, ElectraTokenizerFast\n",
    "import numpy as np\n",
    "import pandas as pd\n",
    "\n",
    "# load model and tokenizer\n",
    "name = \"monologg/koelectra-base-v3-discriminator\"\n",
    "model = ElectraModel.from_pretrained(name)\n",
    "tokenizer = ElectraTokenizerFast.from_pretrained(name)\n",
    "\n",
    "# load keywordExtractor\n",
    "key = keywordExtractor(model,tokenizer,dir='eng_han.csv') #키워드 추출하는 애=key\n",
    "\n",
    "# load scraping_data\n",
    "scraping_result = pd.read_csv('binaryproject.csv') # 정제되지 않은 데이터-> 여기서 파이어베이스 연동 필요할 듯(안 해도 되긴 함)"
   ]
  },
  {
   "cell_type": "code",
   "execution_count": 22,
   "id": "0f521b24",
   "metadata": {},
   "outputs": [
    {
     "name": "stdout",
     "output_type": "stream",
     "text": [
      "[{'name': ['야채김밥'], 'keywords': [['김밥']]}, {'name': ['치즈김밥'], 'keywords': [['치즈', '김밥']]}, {'name': ['소고기김밥'], 'keywords': [['소고기', '김밥']]}, {'name': ['매콤땡초김밥'], 'keywords': [['땡초', '김밥']]}, {'name': ['참치마요김밥'], 'keywords': [['김밥']]}, {'name': ['참치와사비김밥'], 'keywords': [['와사비', '참치', '김밥']]}, {'name': ['매콤오징어김밥'], 'keywords': [['오징어', '김밥']]}, {'name': ['신라면'], 'keywords': [['신라면']]}, {'name': ['콩나물라면'], 'keywords': [['콩나물']]}, {'name': ['떡라면'], 'keywords': [['라면']]}, {'name': ['만두라면'], 'keywords': [['라면', '육수', '만두']]}, {'name': ['치즈라면'], 'keywords': [['치즈', '라면']]}, {'name': ['국물떡볶이'], 'keywords': [['분식', '떡볶이', '국물']]}, {'name': ['유부라면'], 'keywords': [['라면']]}, {'name': ['후레쉬쫄면'], 'keywords': [[]]}, {'name': ['부산생생우동'], 'keywords': [['부산']]}, {'name': ['부산어묵탕'], 'keywords': [['부산']]}, {'name': ['김치만두'], 'keywords': [['김치', '만두']]}, {'name': ['고기만두'], 'keywords': [['고기', '만두']]}, {'name': ['만두국'], 'keywords': [['국물', '만두']]}, {'name': ['떡국+공기밥'], 'keywords': [['떡국', '국물']]}, {'name': ['떡만두국+공기밥'], 'keywords': [['만두국']]}, {'name': ['된장찌개'], 'keywords': [[]]}, {'name': ['순두부찌개'], 'keywords': [[]]}, {'name': ['돼지김치찌개'], 'keywords': [['김치']]}, {'name': ['참치김치찌개'], 'keywords': [['참치', '김치']]}, {'name': ['뚝배기불고기'], 'keywords': [['뚝배기']]}, {'name': ['갈비탕'], 'keywords': [['고기']]}, {'name': ['육개장'], 'keywords': [[]]}, {'name': ['짜장덮밥'], 'keywords': [['덮밥', '짜장']]}, {'name': ['부대찌개+라면사리'], 'keywords': [[]]}, {'name': ['햄야채볶음밥'], 'keywords': [['볶음밥', '야채']]}, {'name': ['김치볶음밥'], 'keywords': [['볶음밥', '김치']]}, {'name': ['참치볶음밥'], 'keywords': [['참치', '볶음밥', '야채']]}, {'name': ['카레라이스'], 'keywords': [[]]}, {'name': ['새우볶음밥'], 'keywords': [['볶음밥', '새우']]}, {'name': ['제육덮밥'], 'keywords': [['덮밥']]}, {'name': ['오징어덮밥'], 'keywords': [['오징어', '양념', '덮밥']]}, {'name': ['비빔밥'], 'keywords': [[]]}, {'name': ['돌솥비빔밥'], 'keywords': [['한국']]}, {'name': ['오므라이스'], 'keywords': [['요리']]}, {'name': ['등심돈까스'], 'keywords': [['돈까스', '등심']]}, {'name': ['생선까스'], 'keywords': [['생선', '요리']]}, {'name': ['치즈돈까스'], 'keywords': [['치즈', '돈까스', '요리']]}, {'name': ['수제왕돈까스'], 'keywords': [['돈까스']]}, {'name': ['물냉면'], 'keywords': [[]]}, {'name': ['비빔냉면'], 'keywords': [['냉면']]}]\n",
      "[{'name': '야채김밥', 'keywords': ['김밥']}, {'name': '치즈김밥', 'keywords': ['치즈', '김밥']}, {'name': '소고기김밥', 'keywords': ['소고기', '김밥']}, {'name': '매콤땡초김밥', 'keywords': ['땡초', '김밥']}, {'name': '참치마요김밥', 'keywords': ['김밥']}, {'name': '참치와사비김밥', 'keywords': ['와사비', '참치', '김밥']}, {'name': '매콤오징어김밥', 'keywords': ['오징어', '김밥']}, {'name': '신라면', 'keywords': ['신라면']}, {'name': '콩나물라면', 'keywords': ['콩나물']}, {'name': '떡라면', 'keywords': ['라면']}, {'name': '만두라면', 'keywords': ['라면', '육수', '만두']}, {'name': '치즈라면', 'keywords': ['치즈', '라면']}, {'name': '국물떡볶이', 'keywords': ['분식', '떡볶이', '국물']}, {'name': '유부라면', 'keywords': ['라면']}, {'name': '후레쉬쫄면', 'keywords': []}, {'name': '부산생생우동', 'keywords': ['부산']}, {'name': '부산어묵탕', 'keywords': ['부산']}, {'name': '김치만두', 'keywords': ['김치', '만두']}, {'name': '고기만두', 'keywords': ['고기', '만두']}, {'name': '만두국', 'keywords': ['국물', '만두']}, {'name': '떡국+공기밥', 'keywords': ['떡국', '국물']}, {'name': '떡만두국+공기밥', 'keywords': ['만두국']}, {'name': '된장찌개', 'keywords': []}, {'name': '순두부찌개', 'keywords': []}, {'name': '돼지김치찌개', 'keywords': ['김치']}, {'name': '참치김치찌개', 'keywords': ['참치', '김치']}, {'name': '뚝배기불고기', 'keywords': ['뚝배기']}, {'name': '갈비탕', 'keywords': ['고기']}, {'name': '육개장', 'keywords': []}, {'name': '짜장덮밥', 'keywords': ['덮밥', '짜장']}, {'name': '부대찌개+라면사리', 'keywords': []}, {'name': '햄야채볶음밥', 'keywords': ['볶음밥', '야채']}, {'name': '김치볶음밥', 'keywords': ['볶음밥', '김치']}, {'name': '참치볶음밥', 'keywords': ['참치', '볶음밥', '야채']}, {'name': '카레라이스', 'keywords': []}, {'name': '새우볶음밥', 'keywords': ['볶음밥', '새우']}, {'name': '제육덮밥', 'keywords': ['덮밥']}, {'name': '오징어덮밥', 'keywords': ['오징어', '양념', '덮밥']}, {'name': '비빔밥', 'keywords': []}, {'name': '돌솥비빔밥', 'keywords': ['한국']}, {'name': '오므라이스', 'keywords': ['요리']}, {'name': '등심돈까스', 'keywords': ['돈까스', '등심']}, {'name': '생선까스', 'keywords': ['생선', '요리']}, {'name': '치즈돈까스', 'keywords': ['치즈', '돈까스', '요리']}, {'name': '수제왕돈까스', 'keywords': ['돈까스']}, {'name': '물냉면', 'keywords': []}, {'name': '비빔냉면', 'keywords': ['냉면']}]\n"
     ]
    }
   ],
   "source": [
    "new_data = []\n",
    "for i in range(len(scraping_result)) :\n",
    "  docs_keywords = key.extract_keyword(scraping_result.iloc[[i]])\n",
    "  new_data.append(docs_keywords)\n",
    "print(new_data)\n",
    "for item in new_data:\n",
    "    item['name'] = item['name'][0]  # 'name' 필드에서 대괄호를 제거합니다.\n",
    "    item['keywords'] = [word for sublist in item['keywords'] for word in sublist]  # 'keywords' 리스트를 평탄화합니다.\n",
    "print(new_data)\n",
    "data_search = pd.DataFrame(new_data)"
   ]
  },
  {
   "cell_type": "code",
   "execution_count": 23,
   "id": "e89d4d48",
   "metadata": {},
   "outputs": [],
   "source": [
    "data_search.to_csv('data_for_search.csv', index = False) # 메뉴 명과 키워드가 함께 있는 데이터"
   ]
  },
  {
   "cell_type": "code",
   "execution_count": 23,
   "id": "fc7040ab",
   "metadata": {},
   "outputs": [
    {
     "data": {
      "text/plain": [
       "(['야채김밥', '치즈김밥', '소고기김밥', '매콤땡초김밥', '참치마요김밥'],\n",
       " [\"['김밥']\", \"['치즈', '김밥']\", \"['소고기', '김밥']\", \"['땡초', '김밥']\", \"['김밥']\"])"
      ]
     },
     "execution_count": 23,
     "metadata": {},
     "output_type": "execute_result"
    }
   ],
   "source": [
    "df = pd.read_csv(\"data_for_search.csv\")\n",
    "# name = df[\"name\"].tolist()\n",
    "# keywords = df[\"keywords\"].tolist()\n",
    "# name[:5], keywords[:5]"
   ]
  },
  {
   "cell_type": "code",
   "execution_count": 24,
   "id": "7ff3bc88",
   "metadata": {},
   "outputs": [
    {
     "name": "stdout",
     "output_type": "stream",
     "text": [
      "['볶음밥', '김치']\n"
     ]
    },
    {
     "data": {
      "text/plain": [
       "['김치만두', '돼지김치찌개', '참치김치찌개', '햄야채볶음밥', '참치볶음밥', '새우볶음밥']"
      ]
     },
     "execution_count": 24,
     "metadata": {},
     "output_type": "execute_result"
    }
   ],
   "source": [
    "# 키워드 리스트\n",
    "\n",
    "def get_keywords_for_food(food_name, data):\n",
    "    matched_row = data[data['name'] == food_name] # 띄어쓰기 대비 주의\n",
    "\n",
    "    if not matched_row.empty:\n",
    "        keywords_str = matched_row['keywords'].values[0]\n",
    "        keywords_list = eval(keywords_str)\n",
    "        return keywords_list\n",
    "    else:\n",
    "        return None  # If there is no matching food name, return None\n",
    "\n",
    "### 여기가 음성인식으로 받은 메뉴명을 키워드 추출하는 부분 ###\n",
    "\n",
    "food_name_to_search = text  #######\n",
    "keywords = get_keywords_for_food(food_name_to_search, df)\n",
    "\n",
    "if keywords == 'None' :\n",
    "  print(\"일치하는 음식이 없습니다.\")\n",
    "\n",
    "print(keywords)\n",
    "\n",
    "# 상황 나누기: 1. 완벽히 주문한 메뉴가 메뉴판에 있을 때, 2. 메뉴판에 없을 때 키워드를 통해 추천 3. 키워드 추출 실패\n",
    "# 만약 메뉴판에 없는 상황이라면 chat gpt에게 요청해서 그 메뉴에 대한 정보를 받아오고 비슷한 메뉴로 추천해주는 방식으로 하는 게 원래 방향\n",
    "df2 = pd.DataFrame(columns=['name', 'keywords'])\n",
    "df2['name'] = df['name']\n",
    "# 문자열 표현된 리스트를 실제 리스트로 변환\n",
    "df2['keywords'] = df['keywords'].apply(eval)\n",
    "\n",
    "# 주어진 키워드와 일치하거나 포함하는 음식명을 필터링\n",
    "matched_foods = df2[df2['keywords'].apply(lambda x: any(keyword in x for keyword in keywords))]\n",
    "\n",
    "# 상위 20개 음식명 선택 (중복 제거)\n",
    "top_foods = matched_foods['name'].drop_duplicates().head(20)\n",
    "excluded_food = food_name_to_search\n",
    "filtered_foods = matched_foods[(matched_foods['name'] != excluded_food)]\n",
    "\n",
    "# 상위 20개 음식명 선택 (중복 제거 후)\n",
    "top_excluded_foods = filtered_foods['name'].drop_duplicates().head(20)\n",
    "top_excluded_foods.tolist()\n"
   ]
  },
  {
   "cell_type": "code",
   "execution_count": null,
   "id": "8562b86e",
   "metadata": {},
   "outputs": [],
   "source": []
  }
 ],
 "metadata": {
  "kernelspec": {
   "display_name": "Python 3 (ipykernel)",
   "language": "python",
   "name": "python3"
  },
  "language_info": {
   "codemirror_mode": {
    "name": "ipython",
    "version": 3
   },
   "file_extension": ".py",
   "mimetype": "text/x-python",
   "name": "python",
   "nbconvert_exporter": "python",
   "pygments_lexer": "ipython3",
   "version": "3.11.1"
  }
 },
 "nbformat": 4,
 "nbformat_minor": 5
}
